{
  "cells": [
    {
      "cell_type": "markdown",
      "metadata": {
        "id": "S33oJyyjyKgH"
      },
      "source": [
        "# Problem 1\n",
        "```test.txt``` dosyasındaki satır sayısını bularak ekrana yazdırınız.\n",
        "\n",
        "\n",
        "\n",
        "```\n",
        "> Output\n",
        "Number of lines in the file:  6\n",
        "\n",
        "```\n",
        "\n"
      ]
    },
    {
      "cell_type": "code",
      "execution_count": 5,
      "metadata": {
        "id": "POxFXvYByP0D"
      },
      "outputs": [
        {
          "name": "stdout",
          "output_type": "stream",
          "text": [
            "7\n"
          ]
        }
      ],
      "source": [
        "with open(\"test.txt\", \"r\", encoding= \"utf-8\") as file:\n",
        "    print(len(file.readlines()))"
      ]
    }
  ],
  "metadata": {
    "colab": {
      "provenance": []
    },
    "kernelspec": {
      "display_name": "Python 3",
      "name": "python3"
    },
    "language_info": {
      "codemirror_mode": {
        "name": "ipython",
        "version": 3
      },
      "file_extension": ".py",
      "mimetype": "text/x-python",
      "name": "python",
      "nbconvert_exporter": "python",
      "pygments_lexer": "ipython3",
      "version": "3.11.1"
    }
  },
  "nbformat": 4,
  "nbformat_minor": 0
}
