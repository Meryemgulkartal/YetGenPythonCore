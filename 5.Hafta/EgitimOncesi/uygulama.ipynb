{
 "cells": [
  {
   "attachments": {},
   "cell_type": "markdown",
   "metadata": {},
   "source": [
    "# List Comprehension\n",
    "Liste işlemlerinde kodu uzun uzadıya yazmak yerine tek bir satırda düzenleme imkanı sunma işlemidir.\n",
    "[x**2 for x in range(0, 50) if if x ½ 3 == 0]"
   ]
  },
  {
   "cell_type": "code",
   "execution_count": 1,
   "metadata": {},
   "outputs": [
    {
     "name": "stdout",
     "output_type": "stream",
     "text": [
      "[1, 4, 9, 16, 25, 36, 49, 64, 81, 100]\n"
     ]
    }
   ],
   "source": [
    "#Klasik Yöntem\n",
    "liste= [1, 2, 3, 4, 5, 6, 7, 8, 9, 10]\n",
    "yeniListe= []\n",
    "\n",
    "for i in liste:\n",
    "    yeniListe.append(i * i)\n",
    "print(yeniListe)"
   ]
  },
  {
   "cell_type": "code",
   "execution_count": 3,
   "metadata": {},
   "outputs": [
    {
     "name": "stdout",
     "output_type": "stream",
     "text": [
      "[1, 4, 9, 16, 25, 36, 49, 64, 81, 100]\n"
     ]
    }
   ],
   "source": [
    "# List Comprehension\n",
    "list= [1, 2, 3, 4, 5, 6, 7, 8, 9, 10]\n",
    "newList= [ i * i for i in list]\n",
    "print(newList)"
   ]
  },
  {
   "cell_type": "code",
   "execution_count": 4,
   "metadata": {},
   "outputs": [
    {
     "name": "stdout",
     "output_type": "stream",
     "text": [
      "[1, 2, 3, 4, 5, 6, 7, 8, 9, 12, 13, 14, 15]\n"
     ]
    }
   ],
   "source": [
    "liste= [[1, 2, 3], [4, 5, 6, 7, 8], [9, 12, 13, 14, 15]]\n",
    "liste2= [x for i in liste for x in i]\n",
    "print(liste2)"
   ]
  },
  {
   "cell_type": "code",
   "execution_count": 6,
   "metadata": {},
   "outputs": [
    {
     "name": "stdout",
     "output_type": "stream",
     "text": [
      "[1, 2, 3, 5, 6, 7, 8, 10]\n"
     ]
    }
   ],
   "source": [
    "liste1 = [1, 2, 3, 4, 5, 6, 7, 8, 9, 10]\n",
    "liste2 = [i for i in liste1 if not(i == 4 or i == 9)]\n",
    "print(liste2)"
   ]
  },
  {
   "attachments": {},
   "cell_type": "markdown",
   "metadata": {},
   "source": [
    "# Fonksiyonlar\n",
    "- Bir kodu birçok yerde kullanmamız gerekiyorsa , her yerde tekrar tekrar yazmayı önler. Programlamanın temeli: DRY (Don't Repeat Yourself)\n",
    "- Fonksiyonların içindeki değikenler yereldir, yani br fonskiyonun içinde bir değişken tanımladığınızda, o değişkeni fonksiyonun dışına çıkaramayız. Çümkü o değişken o fonksiyona özeldir ve globalde kullanamayız.\n",
    "- Ne zaman bir fonksiyon çağrılırsa, fonksiyonu yazdıktan sonra yapmalısınız.\n",
    "- Fonksiyon tanımlamanın yapısı şu şekildedir:\n",
    "    * def fonksion_adi(parametre1, parametre2 ...(opsiyonel))\n",
    "        * Yapılacak işlemler\n",
    "        * Dönüş değeri (opsiyonel)\n",
    "- Tanımlanan bir fonksiyonun kullanılmasına programlama dillerinde Fonksiyon Çağrısı denmektedir. O halde selamla fonksiyonumuzu nasıl çağıracağımızı öğrenelim. Fonksiyon çağrısı şu şekilde yapılabilmektedir:\n",
    "    * fonksiyon_adi(Argüman1, Argüman2, ...)"
   ]
  },
  {
   "cell_type": "code",
   "execution_count": 1,
   "metadata": {},
   "outputs": [
    {
     "name": "stdout",
     "output_type": "stream",
     "text": [
      "Merhaba\n"
     ]
    }
   ],
   "source": [
    "def selamla():\n",
    "    print(\"Merhaba\")\n",
    "selamla()"
   ]
  },
  {
   "attachments": {},
   "cell_type": "markdown",
   "metadata": {},
   "source": [
    "# Argüman:\n",
    "- İşlev çağrılırken parantez içindeki işlevlere iletilen değerler(string, number vb) (ör: islev_adi(argüman))\n",
    "- Eğer fonksiyon çağrılırken bir argüman yoksa bu argümanın değeri None olacaktır. Bu nedenle fonksiyonun içinde ifade edilecek bir değer yoksa, belirlenen değeri kullanılmalıdır.\n",
    "- Birden fazla parametre olabilir. Her biri virgülle ayrılır."
   ]
  },
  {
   "cell_type": "code",
   "execution_count": 3,
   "metadata": {},
   "outputs": [
    {
     "name": "stdout",
     "output_type": "stream",
     "text": [
      "Merhaba Ziyaretçi\n",
      "Merhaba Meryem\n"
     ]
    }
   ],
   "source": [
    "def helloWorld(name = \"Ziyaretçi\"):\n",
    "    print(\"Merhaba\", name)\n",
    "helloWorld()\n",
    "helloWorld(\"Meryem\")"
   ]
  },
  {
   "cell_type": "code",
   "execution_count": 5,
   "metadata": {},
   "outputs": [
    {
     "name": "stdout",
     "output_type": "stream",
     "text": [
      "6\n"
     ]
    }
   ],
   "source": [
    "def topla(sayi1, sayi2, sayi3):\n",
    "    toplam= sayi1 + sayi2 + sayi3\n",
    "    print(toplam)\n",
    "\n",
    "topla(1, 2, 3)"
   ]
  },
  {
   "cell_type": "code",
   "execution_count": 8,
   "metadata": {},
   "outputs": [
    {
     "name": "stdout",
     "output_type": "stream",
     "text": [
      "Siteme Hoş Geldin Meryem Kartal\n",
      "Siteme Hoş Geldin Ahmet Kartal\n",
      "Siteme Hoş Geldin Ahmet Ekici\n"
     ]
    }
   ],
   "source": [
    "def merhaba(name = \"Meryem\", surname= \"Kartal\"):\n",
    "    print(\"Siteme Hoş Geldin \" + name + \" \" + surname)\n",
    "merhaba()\n",
    "merhaba(\"Ahmet\")\n",
    "merhaba(\"Ahmet\", \"Ekici\")"
   ]
  },
  {
   "cell_type": "code",
   "execution_count": 9,
   "metadata": {},
   "outputs": [
    {
     "name": "stdout",
     "output_type": "stream",
     "text": [
      "30\n",
      "6\n",
      "2\n"
     ]
    }
   ],
   "source": [
    "def carp(sayi1= 1, sayi2= 1, sayi3= 1):\n",
    "    c = sayi1*sayi2*sayi3\n",
    "    print(c)\n",
    "carp(2,3,5)\n",
    "carp(2,3) # 2*3*1\n",
    "carp(2)   # 2*1*1"
   ]
  },
  {
   "cell_type": "code",
   "execution_count": 10,
   "metadata": {},
   "outputs": [
    {
     "name": "stdout",
     "output_type": "stream",
     "text": [
      "Hola\n",
      "Bonjour\n",
      "Hello\n",
      "Merhaba\n"
     ]
    }
   ],
   "source": [
    "def merhaba(dil):\n",
    "    if dil == \"es\":\n",
    "        print(\"Hola\")\n",
    "    elif dil == \"fr\":\n",
    "        print(\"Bonjour\")\n",
    "    elif dil == \"en\":\n",
    "        print(\"Hello\")\n",
    "    else:\n",
    "        print(\"Merhaba\")\n",
    "merhaba(\"es\")\n",
    "merhaba(\"fr\")\n",
    "merhaba(\"en\")\n",
    "merhaba(\"tr\")"
   ]
  },
  {
   "attachments": {},
   "cell_type": "markdown",
   "metadata": {},
   "source": [
    "# return\n",
    "- Kodun tamamında kullanmak için işlevin kodu tamamlandıktan sonra kalan değeri (sonuç değeri) döndürür.\n",
    "- \"return\" anahtar sözcüğünden sonraki değerler yürütülmez.\n",
    "- return yardımıyla fonksiyonlar değerleri çağrıldığı yere döndürebilir ve biz de bu değerleri isteğimiz yerde kullanabiliriz."
   ]
  },
  {
   "cell_type": "code",
   "execution_count": 11,
   "metadata": {},
   "outputs": [
    {
     "name": "stdout",
     "output_type": "stream",
     "text": [
      "3.0\n"
     ]
    }
   ],
   "source": [
    "def dikUcgenAlan(a,b):\n",
    "    return (a * b) / 2\n",
    "alan = dikUcgenAlan(2,3)\n",
    "print(alan)"
   ]
  },
  {
   "attachments": {},
   "cell_type": "markdown",
   "metadata": {},
   "source": [
    "# *args\n",
    "- Sınırsız sayıda parametreli fonksiyon oluşturmak için parametremizin önüne tek yıldız (*) koyabiliriz.\n",
    "- İsimsiz argümanlardır."
   ]
  },
  {
   "cell_type": "code",
   "execution_count": 12,
   "metadata": {},
   "outputs": [
    {
     "name": "stdout",
     "output_type": "stream",
     "text": [
      "(4,)\n"
     ]
    }
   ],
   "source": [
    "def sayilar(*x):\n",
    "    print(x)\n",
    "sayilar(4)"
   ]
  },
  {
   "cell_type": "code",
   "execution_count": 13,
   "metadata": {},
   "outputs": [
    {
     "name": "stdout",
     "output_type": "stream",
     "text": [
      "(5, 6, 7, 8, 9)\n"
     ]
    }
   ],
   "source": [
    "sayilar(5,6,7,8,9)"
   ]
  },
  {
   "cell_type": "code",
   "execution_count": 15,
   "metadata": {},
   "outputs": [
    {
     "name": "stdout",
     "output_type": "stream",
     "text": [
      "55\n"
     ]
    }
   ],
   "source": [
    "def topla(*x):\n",
    "    toplam= 0\n",
    "    for i in x:\n",
    "        toplam += i\n",
    "    print(toplam)\n",
    "topla(1,2,3,4,5,6,7,8,9,10)"
   ]
  },
  {
   "attachments": {},
   "cell_type": "markdown",
   "metadata": {},
   "source": [
    "# **kwargs\n",
    "- Çift yıldızlı (**) parametrelerin tek yıldızlı (*) parametrelerden en önemli farkı, fonksiyonu çağırırken anahtar değer ilişkisiyle çağırabilmemizdir.\n",
    "- İsimli argümanlardır."
   ]
  },
  {
   "cell_type": "code",
   "execution_count": 16,
   "metadata": {},
   "outputs": [
    {
     "name": "stdout",
     "output_type": "stream",
     "text": [
      "{'adi': 'Meryem', 'soyadi': 'Kartal', 'yas': 20}\n"
     ]
    }
   ],
   "source": [
    "def kimlikGoster(**kimlik):\n",
    "    print(kimlik)\n",
    "kimlikGoster(adi = \"Meryem\", soyadi = \"Kartal\", yas = 20)"
   ]
  },
  {
   "cell_type": "code",
   "execution_count": 17,
   "metadata": {},
   "outputs": [
    {
     "name": "stdout",
     "output_type": "stream",
     "text": [
      "10\n",
      "(20, 30, 40, 50)\n",
      "6\n",
      "{'adi': 'Meryem', 'soyadi': 'Kartal', 'yas': 20}\n"
     ]
    }
   ],
   "source": [
    "def ornek(a, *sayilar, b, **kimlik):\n",
    "    print(a)\n",
    "    print(sayilar)\n",
    "    print(b)\n",
    "    print(kimlik)\n",
    "ornek(10, 20, 30, 40, 50, b=6, adi = \"Meryem\", soyadi = \"Kartal\", yas = 20)"
   ]
  },
  {
   "attachments": {},
   "cell_type": "markdown",
   "metadata": {},
   "source": [
    "# Pass Deyimi\n",
    "- Python programlamasında pass ifadesi null değer atama için kullanılır. Python'daki bir açıklama ve geçiş ifadesi arasındaki fark, yorumlayıcı bir yorumu tamamen yok sayarken, geçişin göz ardı edilmemesidir."
   ]
  },
  {
   "cell_type": "code",
   "execution_count": 18,
   "metadata": {},
   "outputs": [],
   "source": [
    "def carp(*sayilar):\n",
    "    for sayi in sayilar:\n",
    "        pass\n",
    "carp(2,5)"
   ]
  },
  {
   "attachments": {},
   "cell_type": "markdown",
   "metadata": {},
   "source": [
    "# Global ve Yerel Değişkenler\n",
    "- Global değişken fonksiyonlarımızın dışında tanımladığımız değişkenlerdir.\n",
    "- Yerel değişkenler ise fonksiyon içinde kullandığımız değikenlerdir.\n",
    "- Fonksiyonun dışında tanımladığımız fonksiyonların içinde kullanılırken, fonksiyonların içinde tanımladığımız değişkenler fonksiyon dışında kullanılamaz."
   ]
  },
  {
   "cell_type": "code",
   "execution_count": null,
   "metadata": {},
   "outputs": [],
   "source": [
    "# Global değişkenler\n",
    "def goster():\n",
    "    #Yerel değişkenler"
   ]
  },
  {
   "cell_type": "code",
   "execution_count": 20,
   "metadata": {},
   "outputs": [
    {
     "ename": "NameError",
     "evalue": "name 'x' is not defined",
     "output_type": "error",
     "traceback": [
      "\u001b[1;31m---------------------------------------------------------------------------\u001b[0m",
      "\u001b[1;31mNameError\u001b[0m                                 Traceback (most recent call last)",
      "Cell \u001b[1;32mIn[20], line 5\u001b[0m\n\u001b[0;32m      3\u001b[0m     \u001b[39mprint\u001b[39m(x)\n\u001b[0;32m      4\u001b[0m yazdir2\n\u001b[1;32m----> 5\u001b[0m \u001b[39mprint\u001b[39m(x)\n",
      "\u001b[1;31mNameError\u001b[0m: name 'x' is not defined"
     ]
    }
   ],
   "source": [
    "def yazdir2():\n",
    "    x=5\n",
    "    print(x)\n",
    "yazdir2\n",
    "print(x)"
   ]
  },
  {
   "cell_type": "code",
   "execution_count": 22,
   "metadata": {},
   "outputs": [
    {
     "name": "stdout",
     "output_type": "stream",
     "text": [
      "5\n",
      "5\n"
     ]
    }
   ],
   "source": [
    "def yazdir3():\n",
    "    global x\n",
    "    x=5\n",
    "    print(x)\n",
    "yazdir3()\n",
    "print(x)"
   ]
  },
  {
   "attachments": {},
   "cell_type": "markdown",
   "metadata": {},
   "source": [
    "### NOT: Bir fonksiyon kendi içerisinde çağrılırsa sonsuz döngüye giriyor."
   ]
  },
  {
   "attachments": {},
   "cell_type": "markdown",
   "metadata": {},
   "source": [
    "# Lambda Gösterimi\n",
    "- Pythonda isimsiz olarak tanımladığımız fonksiyonlara lamda fonksiyonları denir.\n",
    "- Tek satırda yazılırlar.\n",
    "- Gösterimi\n",
    "    * fonksiyonAdi = lambda parametreler : yapılacakİslem"
   ]
  },
  {
   "cell_type": "code",
   "execution_count": 24,
   "metadata": {},
   "outputs": [
    {
     "data": {
      "text/plain": [
       "3.0"
      ]
     },
     "execution_count": 24,
     "metadata": {},
     "output_type": "execute_result"
    }
   ],
   "source": [
    "dikUcgenAlaniHesapla = lambda a,b: a*b/2\n",
    "dikUcgenAlaniHesapla(2,3)"
   ]
  },
  {
   "cell_type": "code",
   "execution_count": 25,
   "metadata": {},
   "outputs": [
    {
     "name": "stdout",
     "output_type": "stream",
     "text": [
      "6\n"
     ]
    }
   ],
   "source": [
    "ikiyleCarp = lambda x : print(x*2)\n",
    "ikiyleCarp(3)"
   ]
  },
  {
   "cell_type": "code",
   "execution_count": 26,
   "metadata": {},
   "outputs": [
    {
     "name": "stdout",
     "output_type": "stream",
     "text": [
      "meyreM\n"
     ]
    }
   ],
   "source": [
    "ters = lambda s : s[::-1]\n",
    "print(ters(\"Meryem\"))"
   ]
  }
 ],
 "metadata": {
  "kernelspec": {
   "display_name": "Python 3",
   "language": "python",
   "name": "python3"
  },
  "language_info": {
   "codemirror_mode": {
    "name": "ipython",
    "version": 3
   },
   "file_extension": ".py",
   "mimetype": "text/x-python",
   "name": "python",
   "nbconvert_exporter": "python",
   "pygments_lexer": "ipython3",
   "version": "3.11.1"
  },
  "orig_nbformat": 4
 },
 "nbformat": 4,
 "nbformat_minor": 2
}
