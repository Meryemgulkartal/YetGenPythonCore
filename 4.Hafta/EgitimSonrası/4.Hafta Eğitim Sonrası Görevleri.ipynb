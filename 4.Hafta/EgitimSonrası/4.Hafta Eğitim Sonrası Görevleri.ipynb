{
 "cells": [
  {
   "cell_type": "markdown",
   "metadata": {},
   "source": [
    "# Problem 1\n",
    "`ogrenciler` adında bir sözlük oluşturunuz. Kullanıcıdan döngü yardımıyla 3 öğrenci için veri girmesini isteyerek öğrencilerin sırasıyla okul numarası, isim, soy isim, telefon numarası ve doğum tarihi bilgilerini alınız. Aldığınız öğrenci bilgilerini yine aynı döngü yardımıyla `ogrenciler` adındaki sözlükte saklayınız. Daha sonra öğrenci bilgilerinin bulunduğu sözlük yapısını ekrana bastırınız.\n",
    "\n"
   ]
  },
  {
   "cell_type": "code",
   "execution_count": 10,
   "metadata": {},
   "outputs": [
    {
     "name": "stdout",
     "output_type": "stream",
     "text": [
      "{1: {'Okul numarası': '25', 'İsim': 'Meryem', 'Soyisim': 'Kartal', 'Telefon': '05xxxxxxxxx', 'Doğum tarihi': '5 aralık'}, 2: {'Okul numarası': '18', 'İsim': 'Ali', 'Soyisim': 'Efe', 'Telefon': '05xxxxxxxxx', 'Doğum tarihi': '10 kasım'}, 3: {'Okul numarası': 'Selin', 'İsim': 'Kara', 'Soyisim': 'Kara', 'Telefon': '05xxxxxxxxx', 'Doğum tarihi': '12 eylül'}}\n"
     ]
    }
   ],
   "source": [
    "ogrenciler = {}\n",
    "\n",
    "for i in range(1,4):\n",
    "    okulNo= input(f\"{i}. öğrencinin okul numarasını giriniz: \")\n",
    "    isim= input(f\"{i}. öğrencinin ismini giriniz: \")\n",
    "    soyisim= input(f\"{i}. öğrencinin soyismini giriniz: \")\n",
    "    telefon= input(f\"{i}. öğrencinin telefon numarasını giriniz: \")\n",
    "    dogumTarihi= input(f\"{i}. öğrencinin doğum tarihini giriniz: \")\n",
    "    \n",
    "    ogrenciler[i] = {\"Okul numarası\": okulNo, \"İsim\":isim, \"Soyisim\":soyisim, \"Telefon\":telefon, \"Doğum tarihi\":dogumTarihi}\n",
    "print(ogrenciler)"
   ]
  },
  {
   "cell_type": "markdown",
   "metadata": {},
   "source": [
    "# Problem 2\n",
    "\n",
    "### a - Biraz ısınarak başlayalım!\n",
    "\n",
    "```\n",
    "numbers = [5,10,10,15,15,15,20,20,20,20]\n",
    "```\n",
    "\n",
    "Yukarıda `numbers` adında 10 elemanlı bir liste verilmiştir. Bu listenin her elemanını kontrol eden ve tekrar eden elemanları bir kez olacak şekilde başka bir listeye kopyalayan bir program yazınız. Son olarak oluşturduğunuz listeyi ekrana bastırınız.\n",
    "\n",
    "\n",
    "\n",
    "\n",
    "```\n",
    ">Output\n",
    "[5, 10, 15, 20]\n",
    "```\n"
   ]
  },
  {
   "cell_type": "code",
   "execution_count": 6,
   "metadata": {},
   "outputs": [
    {
     "name": "stdout",
     "output_type": "stream",
     "text": [
      "[5, 10, 15, 20]\n"
     ]
    }
   ],
   "source": [
    "numbers = [5,10,10,15,15,15,20,20,20,20]\n",
    "new_list = []\n",
    "for i in numbers:\n",
    "    if i not in new_list:\n",
    "        new_list.append(i)\n",
    "print(new_list)"
   ]
  },
  {
   "cell_type": "markdown",
   "metadata": {},
   "source": [
    "### 🌶️ b) Hadi işi biraz daha zorlaştıralım! \n",
    "\n",
    "\n",
    "Şimdiyse senden `numbers` isimli listedeki tekrar eden elemanları `repeatNumbers` adındaki listeye; tekrar etmeyen elemanları `uniqueNumbers`adındaki listeye kopyalayan yazmanı ve listeleri ekrana bastırmanı bekliyoruz\n",
    "\n",
    "```\n",
    ">Output\n",
    "Tekrar Eden Elemanlar: [10, 10, 15, 15, 15, 20, 20, 20, 20]\n",
    "Tekrar Etmeyen Elemanlar: [5]\n",
    "```"
   ]
  },
  {
   "cell_type": "code",
   "execution_count": 1,
   "metadata": {},
   "outputs": [
    {
     "name": "stdout",
     "output_type": "stream",
     "text": [
      "Tekrar eden elemanlar:  [10, 10, 15, 15, 15, 20, 20, 20, 20]\n",
      "Tekrar etmeyen elemanlar:  [5]\n"
     ]
    }
   ],
   "source": [
    "numbers = [5,10,10,15,15,15,20,20,20,20]\n",
    "uniqeNumbers = []\n",
    "repeatNumbers= []\n",
    "\n",
    "for i in numbers:\n",
    "    if numbers.count(i) == 1:\n",
    "        uniqeNumbers.append(i)\n",
    "    else:\n",
    "        repeatNumbers.append(i)\n",
    "\n",
    "print(\"Tekrar eden elemanlar: \", repeatNumbers)\n",
    "print(\"Tekrar etmeyen elemanlar: \", uniqeNumbers)"
   ]
  },
  {
   "cell_type": "markdown",
   "metadata": {},
   "source": [
    "# Problem 3\n",
    "sn1 = {1,2,3,4,5}\n",
    "\n",
    "sn2 = {4,5,6,7,8}\n",
    "\n",
    " Verilen 2 adet küme için kesişimlerini, farklarını ve birleşimlerini bulunuz. "
   ]
  },
  {
   "cell_type": "code",
   "execution_count": 2,
   "metadata": {},
   "outputs": [
    {
     "name": "stdout",
     "output_type": "stream",
     "text": [
      "Kümelerin kesişimi: {4, 5}\n",
      "Kümelerin farkı: {1, 2, 3}\n",
      "Kümelerin birleşimi: {1, 2, 3, 4, 5, 6, 7, 8}\n"
     ]
    }
   ],
   "source": [
    "sn1 = {1,2,3,4,5}\n",
    "sn2 = {4,5,6,7,8}\n",
    "\n",
    "print(\"Kümelerin kesişimi:\", sn1.intersection(sn2))\n",
    "print(\"Kümelerin farkı:\", sn1.difference(sn2))\n",
    "print(\"Kümelerin birleşimi:\", sn1.union(sn2))"
   ]
  },
  {
   "cell_type": "markdown",
   "metadata": {},
   "source": [
    "# Problem 4\n",
    "\n",
    "Buradaki işlemlerimizin tamamı stringler içindir. Aşağıda verilecek olan metodlar için kendinizin örnek yaratması gerekmektedir. \n",
    "\n",
    "Örneğin `upper` için `string` değişkeni oluştururken` k = \"BAC\"` şeklinde oluşturmayınız. Bunun yerine k değişkenini `k = \"bac`\" şeklinde oluşturmanız `upper` metodundaki değişimi görebilmeniz için daha iyi olacaktır.\n",
    "\n",
    "Bütün metodlardaki değişimin gözle görülür şekilde değişimi beklenmektedir.\n",
    "\n",
    "\n",
    "1- capitalize(), lower(), upper(), swapcase(), title(), replace()\n",
    "\n",
    "2- endswith(), startswith(), find(), index(), count()\n",
    "\n",
    "3- split(), strip(), join(), islower(), isalpha(), isdigit()\n",
    "\n",
    "\n",
    "Yukarıdaki `string` metodlarındaki değişimleri görebildiğimiz bir program yazınız.\n"
   ]
  },
  {
   "cell_type": "code",
   "execution_count": 3,
   "metadata": {},
   "outputs": [
    {
     "name": "stdout",
     "output_type": "stream",
     "text": [
      "Yetgen Core ile Python Öğreniyorum\n",
      "Yetgen core ile python öğreniyorum\n",
      "yetgen core ile python öğreniyorum\n",
      "YETGEN CORE ILE PYTHON ÖĞRENIYORUM\n",
      "yETGEN cORE ILE pYTHON öĞRENIYORUM\n",
      "Yetgen Core Ile Python Öğreniyorum\n",
      "Yetgen Core ile 21. Yüzyıl Yetkinliklerini Öğreniyorum\n"
     ]
    }
   ],
   "source": [
    "k = \"Yetgen Core ile Python Öğreniyorum\"\n",
    "print(k)\n",
    "\n",
    "print(k.capitalize())\n",
    "print(k.lower())\n",
    "print(k.upper())\n",
    "print(k.swapcase())\n",
    "print(k.title())\n",
    "print(k.replace(\"Python\", \"21. Yüzyıl Yetkinliklerini\"))"
   ]
  },
  {
   "cell_type": "code",
   "execution_count": 5,
   "metadata": {},
   "outputs": [
    {
     "name": "stdout",
     "output_type": "stream",
     "text": [
      "False\n",
      "False\n",
      "-1\n",
      "7\n",
      "5\n"
     ]
    }
   ],
   "source": [
    "print(k.endswith(\"öğreniyorum\"))\n",
    "print(k.startswith(\"Üniversite\"))\n",
    "print(k.find(\"Pyhon\"))\n",
    "print(k.index(\"Core\", 5, 12))\n",
    "print(k.count(\"e\"))"
   ]
  },
  {
   "cell_type": "code",
   "execution_count": 7,
   "metadata": {},
   "outputs": [
    {
     "name": "stdout",
     "output_type": "stream",
     "text": [
      "['YetGen', 'Core', 'ile', 'Python', 'Öğreniyorum']\n",
      "YetGen Core ile Python Öğreniyorum\n"
     ]
    }
   ],
   "source": [
    "print(k.split(\" \"))\n",
    "\n",
    "k = \"           YetGen Core ile Python Öğreniyorum               \"\n",
    "k = k.strip()\n",
    "print(k)"
   ]
  },
  {
   "cell_type": "code",
   "execution_count": 8,
   "metadata": {},
   "outputs": [
    {
     "name": "stdout",
     "output_type": "stream",
     "text": [
      "YetGen#Core#ile#Python#Öğreniyorum\n"
     ]
    }
   ],
   "source": [
    "l = (\"YetGen\", \"Core\", \"ile\", \"Python\", \"Öğreniyorum\")\n",
    "print(\"#\".join(l))"
   ]
  },
  {
   "cell_type": "code",
   "execution_count": 9,
   "metadata": {},
   "outputs": [
    {
     "name": "stdout",
     "output_type": "stream",
     "text": [
      "False\n",
      "False\n",
      "False\n",
      "True\n"
     ]
    }
   ],
   "source": [
    "print(k.islower())\n",
    "print(k.isalpha())\n",
    "print(k.isdigit())\n",
    "print(k.lower().islower())"
   ]
  }
 ],
 "metadata": {
  "kernelspec": {
   "display_name": "Python 3.10.5 64-bit",
   "language": "python",
   "name": "python3"
  },
  "language_info": {
   "codemirror_mode": {
    "name": "ipython",
    "version": 3
   },
   "file_extension": ".py",
   "mimetype": "text/x-python",
   "name": "python",
   "nbconvert_exporter": "python",
   "pygments_lexer": "ipython3",
   "version": "3.11.1"
  },
  "orig_nbformat": 4,
  "vscode": {
   "interpreter": {
    "hash": "5026d2d6e7aaaaba093def813beadff083d8733e4a511af01735cbabd156995d"
   }
  }
 },
 "nbformat": 4,
 "nbformat_minor": 2
}
