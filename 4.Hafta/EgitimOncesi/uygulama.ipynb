{
 "cells": [
  {
   "attachments": {},
   "cell_type": "markdown",
   "metadata": {},
   "source": [
    "# LİSTELER\n",
    "- [] içerisinde tutulurlar\n",
    "- Indexleme, veri güncelleme, silme, veri ekleme gibi işlemler yapılabilir\n",
    "- İç içe listeleme işlemi yapılabilir"
   ]
  },
  {
   "cell_type": "code",
   "execution_count": 1,
   "metadata": {},
   "outputs": [
    {
     "name": "stdout",
     "output_type": "stream",
     "text": [
      "['Ahmet', 'Eslem', 'Berkcan', 'Çağla']\n"
     ]
    }
   ],
   "source": [
    "liderler = [\"Ahmet\", \"Eslem\", \"Berkcan\", \"Çağla\"]\n",
    "print(liderler)"
   ]
  },
  {
   "cell_type": "code",
   "execution_count": 3,
   "metadata": {},
   "outputs": [
    {
     "name": "stdout",
     "output_type": "stream",
     "text": [
      "Ahmet\n",
      "Çağla\n"
     ]
    }
   ],
   "source": [
    "print(liderler[0])\n",
    "print(liderler[-1])"
   ]
  },
  {
   "attachments": {},
   "cell_type": "markdown",
   "metadata": {},
   "source": [
    "## Liste Metodları\n",
    "- append(): Listenin sonuna eleman ekler\n",
    "- remove(): Listenin içerisindeki elemanı siler\n",
    "- len(): Listenin uzunluğunu verir\n",
    "- clear(): Listenin içerisindeki elemanları siler"
   ]
  },
  {
   "cell_type": "code",
   "execution_count": 4,
   "metadata": {},
   "outputs": [
    {
     "name": "stdout",
     "output_type": "stream",
     "text": [
      "['Ahmet', 'Eslem', 'Berkcan', 'Çağla', 'Emirhan']\n"
     ]
    }
   ],
   "source": [
    "liderler.append(\"Emirhan\")\n",
    "print(liderler)"
   ]
  },
  {
   "cell_type": "code",
   "execution_count": 5,
   "metadata": {},
   "outputs": [
    {
     "name": "stdout",
     "output_type": "stream",
     "text": [
      "['Ahmet', 'Eslem', 'Çağla', 'Emirhan']\n"
     ]
    }
   ],
   "source": [
    "liderler.remove(\"Berkcan\")\n",
    "print(liderler)"
   ]
  },
  {
   "cell_type": "code",
   "execution_count": 7,
   "metadata": {},
   "outputs": [
    {
     "name": "stdout",
     "output_type": "stream",
     "text": [
      "['Ahmet', 'Eslem', 'Berkcan', 'Emirhan']\n"
     ]
    }
   ],
   "source": [
    "liderler[2] = \"Berkcan\"\n",
    "print(liderler)"
   ]
  },
  {
   "cell_type": "code",
   "execution_count": 6,
   "metadata": {},
   "outputs": [
    {
     "name": "stdout",
     "output_type": "stream",
     "text": [
      "4\n"
     ]
    }
   ],
   "source": [
    "print(len(liderler))"
   ]
  },
  {
   "cell_type": "code",
   "execution_count": 8,
   "metadata": {},
   "outputs": [
    {
     "name": "stdout",
     "output_type": "stream",
     "text": [
      "[]\n"
     ]
    }
   ],
   "source": [
    "liderler.clear()\n",
    "print(liderler)"
   ]
  },
  {
   "attachments": {},
   "cell_type": "markdown",
   "metadata": {},
   "source": [
    "### index():\n",
    "- Listedeki elemanın indexini verir\n",
    "- Aranan veriyi ilk bulduğunda durur. Diğer verilerde aynı veri varsa getirmez.\n",
    "- Eğer veri bulunmazsa ValueError hatası verir."
   ]
  },
  {
   "cell_type": "code",
   "execution_count": 9,
   "metadata": {},
   "outputs": [
    {
     "name": "stdout",
     "output_type": "stream",
     "text": [
      "['Ankara', 'İstanbul', 'İzmir']\n"
     ]
    }
   ],
   "source": [
    "sehirler = list((\"Ankara\", \"İstanbul\", \"İzmir\"))\n",
    "print(sehirler)"
   ]
  },
  {
   "cell_type": "code",
   "execution_count": 10,
   "metadata": {},
   "outputs": [
    {
     "name": "stdout",
     "output_type": "stream",
     "text": [
      "Ankara'nın indexi:  0\n"
     ]
    }
   ],
   "source": [
    "print(\"Ankara'nın indexi: \", sehirler. index(\"Ankara\"))"
   ]
  },
  {
   "cell_type": "code",
   "execution_count": 11,
   "metadata": {},
   "outputs": [
    {
     "name": "stdout",
     "output_type": "stream",
     "text": [
      "Ankara'nın indexi: 0\n"
     ]
    }
   ],
   "source": [
    "print(\"Ankara'nın indexi: \"+ str(sehirler. index(\"Ankara\")))"
   ]
  },
  {
   "attachments": {},
   "cell_type": "markdown",
   "metadata": {},
   "source": [
    "### pop(): Listedeki elemanı siler\n",
    "- İndex verilmezse son elemanı siler.\n",
    "- İndex verilirse verilen indexdeki elemanı siler.\n"
   ]
  },
  {
   "cell_type": "code",
   "execution_count": 12,
   "metadata": {},
   "outputs": [
    {
     "data": {
      "text/plain": [
       "'İzmir'"
      ]
     },
     "execution_count": 12,
     "metadata": {},
     "output_type": "execute_result"
    }
   ],
   "source": [
    "sehirler.pop()"
   ]
  },
  {
   "cell_type": "code",
   "execution_count": 13,
   "metadata": {},
   "outputs": [
    {
     "data": {
      "text/plain": [
       "'İstanbul'"
      ]
     },
     "execution_count": 13,
     "metadata": {},
     "output_type": "execute_result"
    }
   ],
   "source": [
    "sehirler.pop(1)"
   ]
  },
  {
   "cell_type": "code",
   "execution_count": 14,
   "metadata": {},
   "outputs": [
    {
     "data": {
      "text/plain": [
       "['Ankara']"
      ]
     },
     "execution_count": 14,
     "metadata": {},
     "output_type": "execute_result"
    }
   ],
   "source": [
    "sehirler"
   ]
  },
  {
   "cell_type": "code",
   "execution_count": 15,
   "metadata": {},
   "outputs": [
    {
     "name": "stdout",
     "output_type": "stream",
     "text": [
      "['Denizli', 'Adana', 'Manisa', 'Ankara']\n"
     ]
    }
   ],
   "source": [
    "sehirler.insert(0,\"Adana\")\n",
    "sehirler.insert(1,\"Manisa\")\n",
    "sehirler.insert(0,\"Denizli\")\n",
    "print(sehirler)"
   ]
  },
  {
   "attachments": {},
   "cell_type": "markdown",
   "metadata": {},
   "source": [
    "#### reverse(): Listeyi ters çevirir"
   ]
  },
  {
   "cell_type": "code",
   "execution_count": 16,
   "metadata": {},
   "outputs": [
    {
     "name": "stdout",
     "output_type": "stream",
     "text": [
      "['Ankara', 'Manisa', 'Adana', 'Denizli']\n"
     ]
    }
   ],
   "source": [
    "sehirler.reverse()\n",
    "print(sehirler)"
   ]
  },
  {
   "attachments": {},
   "cell_type": "markdown",
   "metadata": {},
   "source": [
    "#### sort(): Listeyi küçükten büyüğe sıralar"
   ]
  },
  {
   "cell_type": "code",
   "execution_count": 17,
   "metadata": {},
   "outputs": [
    {
     "name": "stdout",
     "output_type": "stream",
     "text": [
      "['Adana', 'Ankara', 'Denizli', 'Manisa']\n"
     ]
    }
   ],
   "source": [
    "sehirler.sort()\n",
    "print(sehirler)"
   ]
  },
  {
   "attachments": {},
   "cell_type": "markdown",
   "metadata": {},
   "source": [
    "## Liste Toplama\n",
    "- İki listeyi birleştirir"
   ]
  },
  {
   "cell_type": "code",
   "execution_count": 18,
   "metadata": {},
   "outputs": [
    {
     "name": "stdout",
     "output_type": "stream",
     "text": [
      "['Meryem', 'Nilüfer', 'Jale', 'Dilara']\n"
     ]
    }
   ],
   "source": [
    "liste1 = [\"Meryem\", \"Nilüfer\"]\n",
    "liste2 = [\"Jale\", \"Dilara\"]\n",
    "print(liste1 + liste2)"
   ]
  },
  {
   "cell_type": "code",
   "execution_count": 19,
   "metadata": {},
   "outputs": [
    {
     "name": "stdout",
     "output_type": "stream",
     "text": [
      "1\n",
      "5\n",
      "Meryem\n",
      "4\n",
      "6\n",
      "z\n"
     ]
    }
   ],
   "source": [
    "nestedList= [1, 5, \"Meryem\", 4, [6, \"z\"]]\n",
    "print(nestedList[0])\n",
    "print(nestedList[1])\n",
    "print(nestedList[2])\n",
    "print(nestedList[3])\n",
    "print(nestedList[4][0])\n",
    "print(nestedList[4][1])"
   ]
  },
  {
   "attachments": {},
   "cell_type": "markdown",
   "metadata": {},
   "source": [
    "# TUPLE (DEMET)\n",
    "- Tuple listelere benzerdir.\n",
    "- Tuple ile liste arasındaki en önemli fark tuple elemanlarının değiştirilemez, liste elemanlarının değiştirilebilir olmasıdır.\n",
    "- Performanslı bir data sağlar.\n",
    "- () içerisinde tanımlanabilir\n",
    "- İç içe tuple oluşturulabilir.\n",
    "- Liste içerisinde tuple, tuple içerisinde liste tanımlamak mümkündür.\n",
    "- Bir kere tanımladıktan sonra değiştirilemezler yalnızca okunurlar.\n",
    "-  Tek elemansa tuple olduğunu belirtmek için virgül koyulmalıdır.\n"
   ]
  },
  {
   "cell_type": "code",
   "execution_count": 20,
   "metadata": {},
   "outputs": [
    {
     "name": "stdout",
     "output_type": "stream",
     "text": [
      "<class 'tuple'>\n"
     ]
    }
   ],
   "source": [
    "tupleList = (2, 4, 6, \"Ankara\", [2, 4, 6])\n",
    "print(type(tupleList))"
   ]
  },
  {
   "cell_type": "code",
   "execution_count": 21,
   "metadata": {},
   "outputs": [
    {
     "name": "stdout",
     "output_type": "stream",
     "text": [
      "(2, 4, 6, 'Ankara', [2, 4, 6])\n"
     ]
    }
   ],
   "source": [
    "print(tupleList)"
   ]
  },
  {
   "cell_type": "code",
   "execution_count": 22,
   "metadata": {},
   "outputs": [
    {
     "name": "stdout",
     "output_type": "stream",
     "text": [
      "5\n"
     ]
    }
   ],
   "source": [
    "print(len(tupleList))"
   ]
  },
  {
   "cell_type": "code",
   "execution_count": 23,
   "metadata": {},
   "outputs": [
    {
     "name": "stdout",
     "output_type": "stream",
     "text": [
      "Ankara\n"
     ]
    }
   ],
   "source": [
    "print(tupleList[-2])"
   ]
  },
  {
   "cell_type": "code",
   "execution_count": 24,
   "metadata": {},
   "outputs": [
    {
     "name": "stdout",
     "output_type": "stream",
     "text": [
      "(4,)\n"
     ]
    }
   ],
   "source": [
    "print(tupleList[1:2])"
   ]
  },
  {
   "attachments": {},
   "cell_type": "markdown",
   "metadata": {},
   "source": [
    "# SET\n",
    "- Listelere benzer.\n",
    "- En önemli özelliği indexsiz ve sırasız elemanlardan oluşmasıdır.\n",
    "- Veri tekrarı söz konusu değildir. Tüm elemanlar eşsizdir.\n",
    "- {} içerisinde tanımlanır.\n",
    "- Çok hızlı bir veri tipidir."
   ]
  },
  {
   "cell_type": "code",
   "execution_count": null,
   "metadata": {},
   "outputs": [],
   "source": [
    "liderler = {\"Berkcan\", \"Ahmet\"}"
   ]
  }
 ],
 "metadata": {
  "kernelspec": {
   "display_name": "Python 3",
   "language": "python",
   "name": "python3"
  },
  "language_info": {
   "codemirror_mode": {
    "name": "ipython",
    "version": 3
   },
   "file_extension": ".py",
   "mimetype": "text/x-python",
   "name": "python",
   "nbconvert_exporter": "python",
   "pygments_lexer": "ipython3",
   "version": "3.11.1"
  },
  "orig_nbformat": 4
 },
 "nbformat": 4,
 "nbformat_minor": 2
}
