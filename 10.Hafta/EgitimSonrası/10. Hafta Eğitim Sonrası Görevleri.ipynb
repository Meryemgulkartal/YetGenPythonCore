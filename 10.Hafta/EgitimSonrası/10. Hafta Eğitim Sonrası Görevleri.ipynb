{
 "cells": [
  {
   "attachments": {},
   "cell_type": "markdown",
   "metadata": {},
   "source": [
    "# Problem 1 "
   ]
  },
  {
   "cell_type": "code",
   "execution_count": 2,
   "metadata": {},
   "outputs": [
    {
     "name": "stdout",
     "output_type": "stream",
     "text": [
      "[  6  25  45  54 244]\n"
     ]
    }
   ],
   "source": [
    "# 1 - numpy kütüphanesini import edin\n",
    "import numpy as np\n",
    "\n",
    "# 2 - 5 elemanlı bir numpy array oluşturun\n",
    "array = np.array([45, 6, 54, 244, 25])\n",
    "# 3 - Oluşturduğunuz arrayi küçükten büyüğe sıralayın.\n",
    "array.sort()\n",
    "print(array)"
   ]
  },
  {
   "attachments": {},
   "cell_type": "markdown",
   "metadata": {},
   "source": [
    "# Problem 2"
   ]
  },
  {
   "cell_type": "code",
   "execution_count": 1,
   "metadata": {},
   "outputs": [
    {
     "name": "stdout",
     "output_type": "stream",
     "text": [
      "[10 15 30 45 60]\n",
      "--------------------------------------------\n",
      "[ 5  6  7  8  9 10 11 12 13 14 15]\n",
      "--------------------------------------------\n",
      "[50 55 60 65 70 75 80 85 90 95]\n",
      "--------------------------------------------\n",
      "[0. 0. 0. 0. 0. 0. 0. 0. 0. 0.]\n",
      "--------------------------------------------\n",
      "[1. 1. 1. 1. 1. 1. 1. 1. 1. 1.]\n",
      "--------------------------------------------\n",
      "[  0.  20.  40.  60.  80. 100.]\n",
      "--------------------------------------------\n",
      "[13 28 29 25 10]\n",
      "--------------------------------------------\n",
      "[ 8.68127947e-01  5.16969146e-01  3.42616495e-01  2.03652210e-02\n",
      " -2.91167477e-04 -7.92206953e-01  4.36114257e-01 -1.73813902e-02\n",
      " -2.93959274e-01  9.21395241e-02]\n",
      "--------------------------------------------\n",
      "[[33 19 25 48 35]\n",
      " [13 23 38 33 26]\n",
      " [10 36 18 23 15]]\n",
      "Satır toplamları:  [160 133 102]\n",
      "Sütun toplamları:  [ 56  78  81 104  76]\n",
      "En büyük değer:  48\n",
      "En küçük değer:  10\n",
      "Ortalama:  26.333333333333332\n",
      "En büyük değerin indeksi:  3\n",
      "--------------------------------------------\n",
      "[16 12 15]\n",
      "[10 17 17 17 18 15 12 16]\n",
      "--------------------------------------------\n",
      "[33 19 25 48 35]\n",
      "38\n",
      "[33 13 10]\n",
      "[[1089  361  625 2304 1225]\n",
      " [ 169  529 1444 1089  676]\n",
      " [ 100 1296  324  529  225]]\n",
      "--------------------------------------------\n",
      "[[False False False False False]\n",
      " [ True False False False  True]\n",
      " [False  True False False False]]\n"
     ]
    }
   ],
   "source": [
    "# 1- (10,15,30,45,60) değerlerine sahip numpy dizisi oluşturunuz.\n",
    "import numpy as np\n",
    "array1 = np.array([10,15,30,45,60])\n",
    "print(array1)\n",
    "print(\"--------------------------------------------\")\n",
    "\n",
    "# 2- (5-15) arasındaki sayılarla numpy dizisi oluşturunuz.\n",
    "array2 = np.arange(5, 16)\n",
    "print(array2)\n",
    "print(\"--------------------------------------------\")\n",
    "\n",
    "# 3- (50-100) arasında 5'er 5'er artarak numpy dizisi oluşturunuz.\n",
    "array3 = np.arange(50,100,5)\n",
    "print(array3)\n",
    "print(\"--------------------------------------------\")\n",
    "\n",
    "# 4- 10 elemanlı sıfırlardan oluşan bir dizi oluşturunuz.\n",
    "array4 = np.zeros(10)\n",
    "print(array4)\n",
    "print(\"--------------------------------------------\")\n",
    "\n",
    "# 5- 10 elemanlı birlerden oluşan bir dizi oluşturunuz.\n",
    "array5 = np.ones(10)\n",
    "print(array5)\n",
    "print(\"--------------------------------------------\")\n",
    "\n",
    "# 6- (0-100) arasında eşit aralıklı 5 sayı üretin.\n",
    "array6 = np.linspace(0,100,6)\n",
    "print(array6)\n",
    "print(\"--------------------------------------------\")\n",
    "\n",
    "# 7- (10-30) arasında rastgele 5 tane tamsayı üretin.\n",
    "array7 = np.random.randint(10, 30, 5)\n",
    "print(array7)\n",
    "print(\"--------------------------------------------\")\n",
    "\n",
    "# 8- [-1 ile 1] arasında 10 adet sayı üretin.\n",
    "array8 = np.random.uniform(-1, 1, 10)\n",
    "print(array8)\n",
    "print(\"--------------------------------------------\")\n",
    "\n",
    "# 9- (3x5) boyutlarında (10-50) arasında rastgele bir matris oluşturunuz.\n",
    "matris1 = np.random.randint(10, 51, size = (3,5))\n",
    "print(matris1)\n",
    "\n",
    "# 10- Üretilen matrisin satır ve sütun sayıları toplamlarını hesaplayınız ?\n",
    "satirTop = np.sum(matris1, axis=1)\n",
    "sutunTop = np.sum(matris1, axis=0)\n",
    "print(\"Satır toplamları: \", satirTop)\n",
    "print(\"Sütun toplamları: \", sutunTop)\n",
    "\n",
    "# 11- Üretilen matrisin en büyük, en küçük ve ortalaması nedir ?\n",
    "enBuyuk = np.max(matris1)\n",
    "enKucuk = np.min(matris1)\n",
    "ortalama = np.mean(matris1)\n",
    "\n",
    "print(\"En büyük değer: \", enBuyuk)\n",
    "print(\"En küçük değer: \", enKucuk)\n",
    "print(\"Ortalama: \", ortalama)\n",
    "\n",
    "# 12- Üretilen matrisin en büyük değerinin indeksi kaçtır ?\n",
    "en_buyuk_indeks = np.argmax(matris1)\n",
    "print(\"En büyük değerin indeksi: \", en_buyuk_indeks)\n",
    "print(\"--------------------------------------------\")\n",
    "\n",
    "# 13- (10-20) arasındaki sayıları içeren dizinin ilk 3 elemanını seçiniz.\n",
    "array9 = np.random.randint(10, 20, size=8)\n",
    "print(array9[:3])\n",
    "\n",
    "# 14- Üretilen dizinin elemanlarını tersten yazdırın.\n",
    "print(array9[::-1])\n",
    "print(\"--------------------------------------------\")\n",
    "\n",
    "# 15- Üretilen matrisin ilk satırını seçiniz.\n",
    "print(matris1[0])\n",
    "\n",
    "# 16- Üretilen matrisin 2.satır 3.sütundaki elemanı hangisidir ?\n",
    "print(matris1[1,2])\n",
    "\n",
    "# 17- Üretilen matrisin tüm satırlardaki ilk elemanı seçiniz.\n",
    "print(matris1[:,0])\n",
    "\n",
    "# 18- Üretilen matrisin her bir elemanının karesini alınız.\n",
    "print(matris1**2)\n",
    "print(\"--------------------------------------------\")\n",
    "\n",
    "# 19- Üretilen matris elemanlarının hangisi pozitif çift sayıdır ? Aralığı (-50,+50) arasında yapınız.\n",
    "array10 = np.random.randint(-50, 50, size=(3,5))\n",
    "print((array10 > 0) & (array10 % 2 == 0))"
   ]
  }
 ],
 "metadata": {
  "kernelspec": {
   "display_name": "Python 3",
   "language": "python",
   "name": "python3"
  },
  "language_info": {
   "codemirror_mode": {
    "name": "ipython",
    "version": 3
   },
   "file_extension": ".py",
   "mimetype": "text/x-python",
   "name": "python",
   "nbconvert_exporter": "python",
   "pygments_lexer": "ipython3",
   "version": "3.11.1"
  },
  "orig_nbformat": 4,
  "vscode": {
   "interpreter": {
    "hash": "5026d2d6e7aaaaba093def813beadff083d8733e4a511af01735cbabd156995d"
   }
  }
 },
 "nbformat": 4,
 "nbformat_minor": 2
}
