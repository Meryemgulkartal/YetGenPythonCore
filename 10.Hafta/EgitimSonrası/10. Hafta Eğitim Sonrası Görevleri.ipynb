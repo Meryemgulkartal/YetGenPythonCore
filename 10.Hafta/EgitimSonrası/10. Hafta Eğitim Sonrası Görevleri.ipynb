{
 "cells": [
  {
   "attachments": {},
   "cell_type": "markdown",
   "metadata": {},
   "source": [
    "# Problem 1 "
   ]
  },
  {
   "cell_type": "code",
   "execution_count": 1,
   "metadata": {},
   "outputs": [
    {
     "name": "stdout",
     "output_type": "stream",
     "text": [
      "[  6  25  45  54 244]\n"
     ]
    }
   ],
   "source": [
    "# 1 - numpy kütüphanesini import edin\n",
    "import numpy as np\n",
    "\n",
    "# 2 - 5 elemanlı bir numpy array oluşturun\n",
    "array = np.array([45, 6, 54, 244, 25])\n",
    "# 3 - Oluşturduğunuz arrayi küçükten büyüğe sıralayın.\n",
    "array.sort()\n",
    "print(array)"
   ]
  },
  {
   "attachments": {},
   "cell_type": "markdown",
   "metadata": {},
   "source": [
    "# Problem 2"
   ]
  },
  {
   "cell_type": "code",
   "execution_count": 1,
   "metadata": {},
   "outputs": [
    {
     "name": "stdout",
     "output_type": "stream",
     "text": [
      "[10 15 30 45 60]\n",
      "--------------------------------------------\n",
      "[ 5  6  7  8  9 10 11 12 13 14 15]\n",
      "--------------------------------------------\n",
      "[50 55 60 65 70 75 80 85 90 95]\n",
      "--------------------------------------------\n",
      "[0. 0. 0. 0. 0. 0. 0. 0. 0. 0.]\n",
      "--------------------------------------------\n",
      "[1. 1. 1. 1. 1. 1. 1. 1. 1. 1.]\n",
      "--------------------------------------------\n",
      "[  0.  20.  40.  60.  80. 100.]\n",
      "--------------------------------------------\n",
      "[29 16 26 19 17]\n",
      "--------------------------------------------\n",
      "[ 0.6683374  -0.75595773  0.78144581 -0.77311395  0.07849283 -0.81447667\n",
      " -0.6906954   0.49173237 -0.70626246  0.23995529]\n",
      "--------------------------------------------\n",
      "[[43 41 26 40 46]\n",
      " [38 39 20 22 11]\n",
      " [22 12 47 32 45]]\n",
      "Satır toplamları:  [196 130 158]\n",
      "Sütun toplamları:  [103  92  93  94 102]\n",
      "En büyük değer:  47\n",
      "En küçük değer:  11\n",
      "Ortalama:  32.266666666666666\n",
      "En büyük değerin indeksi:  12\n",
      "--------------------------------------------\n"
     ]
    }
   ],
   "source": [
    "# 1- (10,15,30,45,60) değerlerine sahip numpy dizisi oluşturunuz.\n",
    "import numpy as np\n",
    "array1 = np.array([10,15,30,45,60])\n",
    "print(array1)\n",
    "print(\"--------------------------------------------\")\n",
    "\n",
    "# 2- (5-15) arasındaki sayılarla numpy dizisi oluşturunuz.\n",
    "array2 = np.arange(5, 16)\n",
    "print(array2)\n",
    "print(\"--------------------------------------------\")\n",
    "\n",
    "# 3- (50-100) arasında 5'er 5'er artarak numpy dizisi oluşturunuz.\n",
    "array3 = np.arange(50,100,5)\n",
    "print(array3)\n",
    "print(\"--------------------------------------------\")\n",
    "\n",
    "# 4- 10 elemanlı sıfırlardan oluşan bir dizi oluşturunuz.\n",
    "array4 = np.zeros(10)\n",
    "print(array4)\n",
    "print(\"--------------------------------------------\")\n",
    "\n",
    "# 5- 10 elemanlı birlerden oluşan bir dizi oluşturunuz.\n",
    "array5 = np.ones(10)\n",
    "print(array5)\n",
    "print(\"--------------------------------------------\")\n",
    "\n",
    "# 6- (0-100) arasında eşit aralıklı 5 sayı üretin.\n",
    "array6 = np.linspace(0,100,6)\n",
    "print(array6)\n",
    "print(\"--------------------------------------------\")\n",
    "\n",
    "# 7- (10-30) arasında rastgele 5 tane tamsayı üretin.\n",
    "array7 = np.random.randint(10, 30, 5)\n",
    "print(array7)\n",
    "print(\"--------------------------------------------\")\n",
    "\n",
    "# 8- [-1 ile 1] arasında 10 adet sayı üretin.\n",
    "array8 = np.random.uniform(-1, 1, 10)\n",
    "print(array8)\n",
    "print(\"--------------------------------------------\")\n",
    "\n",
    "# 9- (3x5) boyutlarında (10-50) arasında rastgele bir matris oluşturunuz.\n",
    "matris1 = np.random.randint(10, 51, size = (3,5))\n",
    "print(matris1)\n",
    "\n",
    "# 10- Üretilen matrisin satır ve sütun sayıları toplamlarını hesaplayınız ?\n",
    "satirTop = np.sum(matris1, axis=1)\n",
    "sutunTop = np.sum(matris1, axis=0)\n",
    "print(\"Satır toplamları: \", satirTop)\n",
    "print(\"Sütun toplamları: \", sutunTop)\n",
    "\n",
    "# 11- Üretilen matrisin en büyük, en küçük ve ortalaması nedir ?\n",
    "enBuyuk = np.max(matris1)\n",
    "enKucuk = np.min(matris1)\n",
    "ortalama = np.mean(matris1)\n",
    "\n",
    "print(\"En büyük değer: \", enBuyuk)\n",
    "print(\"En küçük değer: \", enKucuk)\n",
    "print(\"Ortalama: \", ortalama)\n",
    "\n",
    "# 12- Üretilen matrisin en büyük değerinin indeksi kaçtır ?\n",
    "en_buyuk_indeks = np.argmax(matris1)\n",
    "print(\"En büyük değerin indeksi: \", en_buyuk_indeks)\n",
    "print(\"--------------------------------------------\")\n",
    "\n",
    "# 13- (10-20) arasındaki sayıları içeren dizinin ilk 3 elemanını seçiniz.\n",
    "\n",
    "# 14- Üretilen dizinin elemanlarını tersten yazdırın.\n",
    "\n",
    "\n",
    "# 15- Üretilen matrisin ilk satırını seçiniz.\n",
    "\n",
    "\n",
    "# 16- Üretilen matrisin 2.satır 3.sütundaki elemanı hangisidir ?\n",
    "\n",
    "\n",
    "# 17- Üretilen matrisin tüm satırlardaki ilk elemanı seçiniz.\n",
    "\n",
    "\n",
    "# 18- Üretilen matrisin her bir elemanının karesini alınız.\n",
    "\n",
    "\n",
    "# 19- Üretilen matris elemanlarının hangisi pozitif çift sayıdır ? Aralığı (-50,+50) arasında yapınız.\n"
   ]
  }
 ],
 "metadata": {
  "kernelspec": {
   "display_name": "Python 3",
   "language": "python",
   "name": "python3"
  },
  "language_info": {
   "codemirror_mode": {
    "name": "ipython",
    "version": 3
   },
   "file_extension": ".py",
   "mimetype": "text/x-python",
   "name": "python",
   "nbconvert_exporter": "python",
   "pygments_lexer": "ipython3",
   "version": "3.11.1"
  },
  "orig_nbformat": 4,
  "vscode": {
   "interpreter": {
    "hash": "5026d2d6e7aaaaba093def813beadff083d8733e4a511af01735cbabd156995d"
   }
  }
 },
 "nbformat": 4,
 "nbformat_minor": 2
}
