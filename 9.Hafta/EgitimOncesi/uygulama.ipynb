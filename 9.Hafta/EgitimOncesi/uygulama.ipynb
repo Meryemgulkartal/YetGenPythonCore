{
 "cells": [
  {
   "attachments": {},
   "cell_type": "markdown",
   "metadata": {},
   "source": [
    "# Methodlar"
   ]
  },
  {
   "cell_type": "code",
   "execution_count": 8,
   "metadata": {},
   "outputs": [],
   "source": [
    "class Yazilimci():\n",
    "    def __init__(self, isim, soyisim, numara, maas, diller):\n",
    "        self.isim = isim\n",
    "        self.soyisim = soyisim\n",
    "        self.numara = numara\n",
    "        self.maas = maas\n",
    "        self.diller = diller\n",
    "\n",
    "    def bilgileriGöster(self):\n",
    "        print(f\"\"\" \n",
    "        Çalışan Bilgisi:\n",
    "            İsim: {self.isim}\n",
    "            Soyisim: {self.soyisim}\n",
    "            Numara: {self.numara}\n",
    "            Maaş: {self.maas}\n",
    "            Bildiği diller: {self.diller}\n",
    "             \"\"\")\n",
    "    \n",
    "    def dilEkle(self, yeni_dil):\n",
    "        print(\"Dil eklendi.\")\n",
    "        self.diller.append(yeni_dil)\n",
    "\n",
    "    def maasYukselt(self, zam):\n",
    "        print(\"Maaş yükseltiliyor...\")\n",
    "        self.maas += 250"
   ]
  },
  {
   "cell_type": "code",
   "execution_count": 9,
   "metadata": {},
   "outputs": [],
   "source": [
    "yazilimci = Yazilimci(\"Meryem\", \"Kartal\", 12345, 15000, [\"Python\", \"Flutter\"])"
   ]
  },
  {
   "cell_type": "code",
   "execution_count": 11,
   "metadata": {},
   "outputs": [
    {
     "name": "stdout",
     "output_type": "stream",
     "text": [
      " \n",
      "        Çalışan Bilgisi:\n",
      "            İsim: Meryem\n",
      "            Soyisim: Kartal\n",
      "            Numara: 12345\n",
      "            Maaş: 15000\n",
      "            Bildiği diller: ['Python', 'Flutter']\n",
      "             \n"
     ]
    }
   ],
   "source": [
    "yazilimci.bilgileriGöster()"
   ]
  },
  {
   "cell_type": "code",
   "execution_count": 13,
   "metadata": {},
   "outputs": [
    {
     "name": "stdout",
     "output_type": "stream",
     "text": [
      "Maaş yükseltiliyor...\n"
     ]
    }
   ],
   "source": [
    "yazilimci.maasYukselt(250)"
   ]
  },
  {
   "cell_type": "code",
   "execution_count": 14,
   "metadata": {},
   "outputs": [
    {
     "name": "stdout",
     "output_type": "stream",
     "text": [
      " \n",
      "        Çalışan Bilgisi:\n",
      "            İsim: Meryem\n",
      "            Soyisim: Kartal\n",
      "            Numara: 12345\n",
      "            Maaş: 15250\n",
      "            Bildiği diller: ['Python', 'Flutter']\n",
      "             \n"
     ]
    }
   ],
   "source": [
    "yazilimci.bilgileriGöster()"
   ]
  },
  {
   "attachments": {},
   "cell_type": "markdown",
   "metadata": {},
   "source": [
    "# Inheritance\n",
    "- Bir sınıfın özelliklerinin ve mtotlarının başka bir sınıfa aktarılarak işlevinin artırılmasını sağlar.\n",
    "- super() miras aldığımız sınıfın metotlarını alt sınıflardan kullanmamızı sağlar.\n",
    "- super().init() metodu çalışırken sınıf özelliklerini ve motodu kullanır.\n",
    "- Base Class ana sınıftır.\n",
    "- Sub Class base class'ın özelliklerini ve mototlarını kullanır."
   ]
  },
  {
   "cell_type": "code",
   "execution_count": 16,
   "metadata": {},
   "outputs": [
    {
     "name": "stdout",
     "output_type": "stream",
     "text": [
      "Person nesnesi türetildi.\n",
      "Meryem Kartal 20\n"
     ]
    }
   ],
   "source": [
    "class Person:\n",
    "    def __init__(self, name, surname, age):\n",
    "        self.name = name\n",
    "        self.surname = surname\n",
    "        self.age = age\n",
    "        print(\"Person nesnesi türetildi.\")\n",
    "    def intro(self):\n",
    "        print(self.name, self.surname, self.age)\n",
    "    \n",
    "class Student(Person):\n",
    "    def __init__(self, name, surname, age, number):\n",
    "        super().__init__(name, surname, age)\n",
    "        self.number = number\n",
    "        print(\"Student nesnesi çalıştı.\")\n",
    "    def intro(self):\n",
    "        print(self.name, self.surname, self.age, self.number)\n",
    "    def study(self):\n",
    "        print(f\"{self.number}  numaralı öğrenci ders çalışıyor.\")\n",
    "\n",
    "class Teacher(Person):\n",
    "    def __init__(self, name, surname, age, branch):\n",
    "        super().__init__(name, surname, age)\n",
    "        self.branch = branch\n",
    "        print(\"Teacher nesnesi çalıştı.\")\n",
    "    def teach(self):\n",
    "        print(f\"{self.name} isimli öğretmen {self.branch} dersine girmektedir.\")\n",
    "\n",
    "p1 = Person(\"Meryem\", \"Kartal\", 20)\n",
    "p1.intro()"
   ]
  },
  {
   "cell_type": "code",
   "execution_count": 17,
   "metadata": {},
   "outputs": [
    {
     "name": "stdout",
     "output_type": "stream",
     "text": [
      "Person nesnesi türetildi.\n",
      "Student nesnesi çalıştı.\n",
      "Yetgen Core 20 1001\n",
      "1001  numaralı öğrenci ders çalışıyor.\n"
     ]
    }
   ],
   "source": [
    "s1 = Student(\"Yetgen\", \"Core\", 20,1001)\n",
    "s1.intro()\n",
    "s1.study()"
   ]
  },
  {
   "cell_type": "code",
   "execution_count": 18,
   "metadata": {},
   "outputs": [
    {
     "name": "stdout",
     "output_type": "stream",
     "text": [
      "Person nesnesi türetildi.\n",
      "Teacher nesnesi çalıştı.\n",
      "Zeynep Efe 28\n",
      "Zeynep isimli öğretmen Bilgisayar dersine girmektedir.\n"
     ]
    }
   ],
   "source": [
    "t1 = Teacher(\"Zeynep\", \"Efe\", 28, \"Bilgisayar\")\n",
    "t1.intro()\n",
    "t1.teach()"
   ]
  }
 ],
 "metadata": {
  "kernelspec": {
   "display_name": "Python 3",
   "language": "python",
   "name": "python3"
  },
  "language_info": {
   "codemirror_mode": {
    "name": "ipython",
    "version": 3
   },
   "file_extension": ".py",
   "mimetype": "text/x-python",
   "name": "python",
   "nbconvert_exporter": "python",
   "pygments_lexer": "ipython3",
   "version": "3.11.1"
  },
  "orig_nbformat": 4
 },
 "nbformat": 4,
 "nbformat_minor": 2
}
